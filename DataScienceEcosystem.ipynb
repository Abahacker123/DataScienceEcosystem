{
  "metadata": {
    "kernelspec": {
      "name": "python",
      "display_name": "Python (Pyodide)",
      "language": "python"
    },
    "language_info": {
      "codemirror_mode": {
        "name": "python",
        "version": 3
      },
      "file_extension": ".py",
      "mimetype": "text/x-python",
      "name": "python",
      "nbconvert_exporter": "python",
      "pygments_lexer": "ipython3",
      "version": "3.8"
    }
  },
  "nbformat_minor": 5,
  "nbformat": 4,
  "cells": [
    {
      "id": "2982004c-596b-431c-984f-20bd52c75f35",
      "cell_type": "markdown",
      "source": "# Data Science Tools and Ecosystem",
      "metadata": {}
    },
    {
      "id": "ea95a8e4-1840-477a-ba01-d1352d05d68f",
      "cell_type": "markdown",
      "source": "## In this notebook, Data Science Tools and Ecosystem are summarized.",
      "metadata": {}
    },
    {
      "id": "fc90a7e6-2161-4169-853a-0d99e2bcd17c",
      "cell_type": "markdown",
      "source": "## **Objectives:**\n- List popular languages for Data Science\n- List popular libraries for Data Science\n- List popular open source Data Science tools",
      "metadata": {}
    },
    {
      "id": "85e1e986-6bc4-47e7-addf-56c17faf3e9a",
      "cell_type": "markdown",
      "source": "### Some of the popular languages that Data Scientists use are:\n1. Python\n2. SQL\n3. R",
      "metadata": {
        "jp-MarkdownHeadingCollapsed": true
      }
    },
    {
      "id": "8d265614-e4f9-492f-93b0-f69b5ac4c782",
      "cell_type": "markdown",
      "source": "## Some of the commonly used libraries used by Data Scientists include:\n1. Pandas\n2. NumPy\n3. Matlotlib",
      "metadata": {}
    },
    {
      "id": "245d4ff9-68e8-4c1d-9531-63d8fe1ff4b8",
      "cell_type": "markdown",
      "source": "| Data Science Tools         |\n|----------------------------|\n| Jupyter Notebook           |\n| Visual Studio Code         |\n| RStudio                    |\n",
      "metadata": {}
    },
    {
      "id": "71662853-eecb-4795-ae3f-0b60038b9a13",
      "cell_type": "markdown",
      "source": "### Below are a few examples of evaluating arithmetic expressions in Python",
      "metadata": {}
    },
    {
      "id": "a630f21f-0c55-40a5-89b3-a720f70118db",
      "cell_type": "code",
      "source": "# This a simple arithmetic expression to mutiply then add integers\n(3*4)+5",
      "metadata": {
        "trusted": true
      },
      "outputs": [
        {
          "execution_count": 5,
          "output_type": "execute_result",
          "data": {
            "text/plain": "17"
          },
          "metadata": {}
        }
      ],
      "execution_count": 5
    },
    {
      "id": "1e66f642-52c4-434f-b0f7-f3c551aae068",
      "cell_type": "code",
      "source": "# This will convert 200 minutes to hours by diving by 60\n200/60",
      "metadata": {
        "trusted": true
      },
      "outputs": [
        {
          "execution_count": 6,
          "output_type": "execute_result",
          "data": {
            "text/plain": "3.3333333333333335"
          },
          "metadata": {}
        }
      ],
      "execution_count": 6
    },
    {
      "id": "cab1dd7b-1792-4fc7-8e5f-c0ff86d249b1",
      "cell_type": "markdown",
      "source": "## Author\nBilal Gadajev",
      "metadata": {}
    },
    {
      "id": "28b77eb2-3cb8-45a4-9cf2-deb1c16a36a4",
      "cell_type": "code",
      "source": "",
      "metadata": {
        "trusted": true
      },
      "outputs": [],
      "execution_count": null
    }
  ]
}